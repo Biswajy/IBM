{
 "cells": [
  {
   "cell_type": "markdown",
   "id": "a4a55005",
   "metadata": {},
   "source": [
    "My Jupyter Notebook on IBM Watson Studio"
   ]
  },
  {
   "cell_type": "markdown",
   "id": "4af4f010",
   "metadata": {},
   "source": [
    "Name : **Biswajyoti Pradhan**\n",
    "\n",
    "Desired Ocupation : **Data Scientist**"
   ]
  },
  {
   "cell_type": "markdown",
   "id": "fe9c44ca",
   "metadata": {},
   "source": [
    "*I am interested in data science because,data is the heart of any organisation. 10 to 15 years ago, we did not have this much of data that we are generating today.\n",
    "The decission I make is always data driven and I always try to visualize the data so that I can make my decission clearly.\n",
    "Moreover I can say crunching numbers, finding patterns in data, visualizing data and story telling,building,testing and deployiing ML models is a lot interesting and cchallenging.\n",
    "Due to above said reason and a person who loves challenges,would love to be a data scientist.*"
   ]
  },
  {
   "cell_type": "markdown",
   "id": "ea688b0d",
   "metadata": {},
   "source": [
    "### Below code explains that if the location is bank and Auto shop,it will show the respective print statement.Other than this if location is any,it will print 'where are you'?\n",
    "​"
   ]
  },
  {
   "cell_type": "code",
   "execution_count": 3,
   "id": "85825718",
   "metadata": {},
   "outputs": [
    {
     "name": "stdout",
     "output_type": "stream",
     "text": [
      "Welcome to the bank!\n"
     ]
    }
   ],
   "source": [
    "loc = 'Bank'\n",
    "\n",
    "if loc == 'Auto Shop':\n",
    "    print('Welcome to the Auto Shop!')\n",
    "elif loc == 'Bank':\n",
    "    print('Welcome to the bank!')\n",
    "else:\n",
    "    print('Where are you?')"
   ]
  },
  {
   "cell_type": "code",
   "execution_count": null,
   "id": "d2b698b0",
   "metadata": {},
   "outputs": [],
   "source": []
  }
 ],
 "metadata": {
  "kernelspec": {
   "display_name": "Python 3 (ipykernel)",
   "language": "python",
   "name": "python3"
  },
  "language_info": {
   "codemirror_mode": {
    "name": "ipython",
    "version": 3
   },
   "file_extension": ".py",
   "mimetype": "text/x-python",
   "name": "python",
   "nbconvert_exporter": "python",
   "pygments_lexer": "ipython3",
   "version": "3.9.7"
  }
 },
 "nbformat": 4,
 "nbformat_minor": 5
}
